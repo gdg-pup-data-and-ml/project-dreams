{
  "nbformat": 4,
  "nbformat_minor": 0,
  "metadata": {
    "colab": {
      "provenance": [],
      "toc_visible": true
    },
    "kernelspec": {
      "name": "python3",
      "display_name": "Python 3"
    },
    "language_info": {
      "name": "python"
    }
  },
  "cells": [
    {
      "cell_type": "markdown",
      "source": [
        "# Project DREAMS: Data Analysis Assignment\n",
        "\n",
        "**Background**\n",
        "\n",
        "As part of Project DREAMS (DataCamp Resources & Engagement Analytics Monitoring System), we need to understand what insights can be extracted from the DataCamp Data Connector. This assignment will help team members develop familiarity with the available data while contributing directly to our analytics platform development.\n",
        "\n",
        "**Assignment Overview**\n",
        "\n",
        "Your task is to formulate research questions that will help us build meaningful analytics for tracking and improving DataCamp scholar engagement. These questions should lead to actionable insights that can inform workshop planning, interventions, and resource allocation.\n",
        "\n",
        "**Instructions**\n",
        "\n",
        "Review the DataCamp Data Connector documentation thoroughly. Formulate 5 research questions that could provide valuable insights for the Project DREAMS system\n",
        "\n",
        "For each question:\n",
        "1. Explain its relevance to Project DREAMS objectives.\n",
        "2. Identify the tables and columns needed to answer the question.\n",
        "3. Describe any joins, aggregations, or calculations required.\n",
        "4. Explain how the insights could improve scholar management."
      ],
      "metadata": {
        "id": "ijN7ajz2Fw6z"
      }
    },
    {
      "cell_type": "markdown",
      "source": [
        "# Introduction\n",
        "\n",
        "For my approach, I decided to focus on how behaviors extracted from interactions with the DataCamp platform can capture trends in learning and how these behaviors can affect performance and learning progress. Specifically, I chose indicators such as XP gained, time spent on courses or projects, assessment performance, and possible inactivity indicators to structure my research questions.\n",
        "\n",
        "## Data Sources\n",
        "- [DataCamp Data Model Documentation](https://enterprise-docs.datacamp.com/data-connector/explore-data-model/data-model)\n",
        "- [Visual Schema for Data Model](https://drive.google.com/file/d/1E8P7BGnTif6K1Rz-3lCbDIt9BbGw634_/view?usp=sharing)"
      ],
      "metadata": {
        "id": "RO3TYmHsszPy"
      }
    },
    {
      "cell_type": "markdown",
      "source": [
        "# Research Questions\n",
        "The following lists the curated analytics questions that may lead to the extraction of useful insights derived from the DataCamp Data Connector for improved tracking of scholars progress:"
      ],
      "metadata": {
        "id": "6A-NNK6oRaZn"
      }
    },
    {
      "cell_type": "markdown",
      "source": [
        "## Question 1\n",
        "What is the amount and proportion of XP that was gained by scholars across the following event categories:\n",
        "- Courses\n",
        "- Practice\n",
        "- Projects\n",
        "\n",
        "### Relevance:\n",
        "This question is relevant as it is a direct measure of what activities a scholar engages in and how time is distributed across different XP events. By analyzing and visualizing these distributions, we can determine if a particular category is more utilized or if one is underutilized.\n",
        "\n",
        "### Tables and Columns Required:\n",
        "- course_fact\n",
        "    - xp\n",
        "    - course_id\n",
        "\n",
        "- course_dim\n",
        "    - course_id\n",
        "    - title\n",
        "\n",
        "- practice_fact\n",
        "    - xp\n",
        "    - practice_id\n",
        "\n",
        "- practice_dim\n",
        "    - practice_id\n",
        "    - title\n",
        "\n",
        "- project_fact\n",
        "    - xp\n",
        "    - project_id\n",
        "\n",
        "- project_dim\n",
        "    - project_id\n",
        "    - title\n",
        "\n",
        "### Methodology:\n",
        "1. Join each fact table to its corresponding dimension table\n",
        "    - `course_fact` with `course_dim` on `course_id`\n",
        "    - `practice_fact` with `practice_dim` on `practice_id`\n",
        "    - `project_fact` with `project_dim` on `project_id`\n",
        "2. Add an `event_type` column as a flag to help in aggregating groups later with the following values:\n",
        "    - `course` for the course table\n",
        "    - `practice` for the practice table\n",
        "    - `project` for the project table\n",
        "3. Stack each merged table to form a single table to query on\n",
        "4. Group by `event_type`\n",
        "5. Compute the total XP for each `event_type`\n",
        "6. Compute the percentage of XP gained for each `event_type`\n",
        "\n",
        "### Potential Insights and Action\n",
        "- If proportion of XP generated is majority from practice exercises, then it could signify a scholar is merely farming XP and support the development of an improved metric to better track learning progress\n",
        "- If the project category has significantly fewer XP proportions, then workshops targeted at project-based learning could be planned"
      ],
      "metadata": {
        "id": "Oms2Km8oRJHN"
      }
    },
    {
      "cell_type": "markdown",
      "source": [
        "## Question 2\n",
        "How does the actual time taken by learners to complete a course compare to the expected course duration, and how does this vary in terms of:\n",
        "- Technology\n",
        "- Topic\n",
        "\n",
        "### Relevance:\n",
        "This question is relevant as it can extract trends regarding scholars' learning pace and course difficulty. Thus, insights from answering this can identify which technologies and topics need further intervention to supplement learning.\n",
        "\n",
        "\n",
        "### Tables and Columns Required:\n",
        "- course_fact\n",
        "    - course_id\n",
        "    - completed_at\n",
        "    - time_spent\n",
        "\n",
        "- course_dim\n",
        "    - course_id\n",
        "    - title\n",
        "    - technology\n",
        "    - topic\n",
        "    - nb_hours_needed\n",
        "\n",
        "### Methodology:\n",
        "1. Join `course_fact` with `course_dim` on `course_id`\n",
        "2. Filter records to only include completed courses (`completed_at IS NOT NULL`)\n",
        "3. Convert `time_spent` to hours since it is originally formatted in seconds\n",
        "4. Add a `time_diff` column to store the difference between the actual time and expected duration in hours\n",
        "5. Group by `technology` / `topic` (separate queries)\n",
        "6. Compute the mean/median (depending on skewness) for each group\n",
        "\n",
        "### Potential Insights and Action\n",
        "- If learners take longer than the expected course duration on a particular technology, targeted trainings could be planned to better explain these concepts or the curriculum could be redesigned to rectify these issues\n",
        "- If a learner takes surprisingly fast to complete a course, we could further investigate if the course was just rushed for compliance rather than actual learning"
      ],
      "metadata": {
        "id": "DxtuX4knRDga"
      }
    },
    {
      "cell_type": "markdown",
      "source": [
        "## Question 3\n",
        "How does the actual time taken by learners to complete a project compare to the expected number of hours needed to complete the project, and how does this vary in terms of:\n",
        "- Technology\n",
        "- Guided or Non-Guided\n",
        "- Certification or Non-Certification\n",
        "\n",
        "### Relevance:\n",
        "This question is relevant as we can extract patterns regarding how scholars utilize project-based learning and analyze their performance across different types of projects. The insights gained here can help assess if they have gained the necessary competencies for project based events such as hackathons.\n",
        "\n",
        "### Tables and Columns Required:\n",
        "- project_fact\n",
        "    - project_id\n",
        "    - time_spent\n",
        "\n",
        "- project_dim\n",
        "    - project_id\n",
        "    - title\n",
        "    - technology\n",
        "    - nb_hours_needed\n",
        "    - is_guided\n",
        "    - is_certification\n",
        "\n",
        "### Methodology:\n",
        "1. Join `project_fact` with `project_dim` on `project_id`\n",
        "2. Convert `time_spent` to hours since it is originally formatted in seconds\n",
        "3. Add a `time_diff` column to store the difference between the actual time and expected duration in hours\n",
        "4. Group by `technology`, `is_guided`, `is_certificatioin` (separately)\n",
        "5. Compute the mean/median (depending on skewness) for each group\n",
        "\n",
        "### Potential Insights and Action\n",
        "- If scholars take longer to complete a project for a particular technology or topic, we could plan on creating mini-projects as assignments to help learners complete easier projects to incrementally improve.\n",
        "- If scholars that have significantly longer time in completing certification projects, we could plan interventions such as workshops or mentoring to help them undertake certification-level projects\n",
        "\n",
        "\n"
      ],
      "metadata": {
        "id": "rSVoXxl05IWQ"
      }
    },
    {
      "cell_type": "markdown",
      "source": [
        "## Question 4\n",
        "What is the relationship between assessment score and technology in terms of:\n",
        "- Score\n",
        "- Score Group\n",
        "- Percentile\n",
        "\n",
        "### Relevance:\n",
        "This question is relevant as we can determine if particular technologies have a correlation or association to scholars' performance on assessments. This can be beneficial to identifying if learners generalize their learnings well to assessments or if they are struggling in certain areas that need assistance with.\n",
        "\n",
        "### Tables and Columns Required:\n",
        "- assessment_fact\n",
        "    - assessment_id\n",
        "    - score\n",
        "    - score_group\n",
        "    - technology\n",
        "\n",
        "- assessment_dim\n",
        "    - assessment_id\n",
        "    - title\n",
        "    - technology\n",
        "\n",
        "### Methodology:\n",
        "1. Join `assessment_fact` with `assessment_dim` on `assessment_id`\n",
        "2. Group by `technology`\n",
        "3. Compute the mean/median of `score` (depends on skewness)\n",
        "4. Compute the mean/median of `percentile`\n",
        "5. Compute the mode for `score_group`\n",
        "\n",
        "### Potential Insights and Action\n",
        "- If scholars yield low performance on their assessment score, percentile, or score group for a certain technology, we could plan workshops targeted at simulating real-world technical coding challenges to help them handle the pressure of timed assessments\n",
        "\n"
      ],
      "metadata": {
        "id": "ZNMeTgkhp5G3"
      }
    },
    {
      "cell_type": "markdown",
      "source": [
        "## Question 5\n",
        "What course-related factors may contribute to scholar inactivity in terms of:\n",
        "- Technologies\n",
        "- Topics\n",
        "- Pace\n",
        "\n",
        "### Relevance:\n",
        "This question is relevant as it can derive insights to identify potential factors that may affect a scholar becoming inactive. This can be used to address scholar inactivity and aid in the planning of interventions to help struggling learners based on which aspect they are struggling with.\n",
        "\n",
        "### Tables and Columns Required:\n",
        "- course_fact\n",
        "    - user_id\n",
        "    - course_id\n",
        "    - completed_at\n",
        "    - time_spent\n",
        "\n",
        "- course_dim\n",
        "    - course_id\n",
        "    - title\n",
        "    - technology\n",
        "    - topic\n",
        "\n",
        "- user_dim\n",
        "    - user_id\n",
        "    - last_time_spent_at\n",
        "\n",
        "### Methodology:\n",
        "1. Join `course_fact` with `course_dim` on `course_id`, and join with `user_dim` on `user_id`\n",
        "2. Create `is_inactive` column to categorize if a scholar is inactive (flag as inactive if the `last_time_spent_at` column's last date is 1 month ago from the current date)\n",
        "3. Filter records to only include inactive students (`is_inactive == TRUE`) and incomplete courses (`course.completed_at == NULL`)\n",
        "4. Create a `pace` column that will categorize the `time_spent` (converted to hours - `time_spent_hrs`) of a scholar through the course using the following:\n",
        "    - `slow`: `time_spent_hrs > nb_hours_needed`\n",
        "    - `normal`: `time_spent_hrs == nb_hours_needed`\n",
        "    - `fast`: `time_spent_hrs < nb_hours_needed`\n",
        "5. Group by `technology` / `topic` / `pace` (separately)\n",
        "6. Compute the mean/median for each group\n",
        "\n",
        "### Potential Insights and Action\n",
        "- If there is a relationship between these factors and scholar inactivity, we can create proactive measures to provide immediate assistance to scholars who are exhibiting early warning signs that may potentially lead to inactivity.\n",
        "\n"
      ],
      "metadata": {
        "id": "PZzek8gIqWtm"
      }
    },
    {
      "cell_type": "markdown",
      "source": [
        "# Conclusion\n",
        "\n",
        "To summarize, the research questions proposed above can provide substantial analysis that target the behaviors, learning patterns, and performance of DataCamp scholars under GDG-PUP. Specifically, they benefit this project providing useful insights such as the following:\n",
        "\n",
        "1. Analyzing XP distributions can help identify if there are imbalances across different event types which can lead to the formulation of a better metric to track learning progress.\n",
        "\n",
        "2. Comparing course completion times can aid in identifying if scholars struggle with the pacing of certain courses and can guide planning to optimize the curriculum to better suit scholars' learning pace.\n",
        "\n",
        "3. Assessing project completion times can help examine how scholars perform on different types of projects and evaluate their competency on translating learning to projects.\n",
        "\n",
        "4. Identifying relationships between assessment performance across different technologies can highlist specific technologies where learners struggle and provide interventions to help them handle timed and high-pressure assessments.\n",
        "\n",
        "\n",
        "5. Determining factors that are associated with scholar inactivity is useful for identifying early warning signs and developing proactive interventions to reduce inactivity."
      ],
      "metadata": {
        "id": "CNNwK6oIs1Ye"
      }
    }
  ]
}