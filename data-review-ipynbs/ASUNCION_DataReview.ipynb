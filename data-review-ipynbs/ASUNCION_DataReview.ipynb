{
  "nbformat": 4,
  "nbformat_minor": 0,
  "metadata": {
    "colab": {
      "provenance": [],
      "toc_visible": true
    },
    "kernelspec": {
      "name": "python3",
      "display_name": "Python 3"
    },
    "language_info": {
      "name": "python"
    }
  },
  "cells": [
    {
      "cell_type": "markdown",
      "source": [
        "# **Project DREAMS: Data Analysis Assignment**\n",
        "by John Mike Asuncion"
      ],
      "metadata": {
        "id": "V6wpp4o3Y6FJ"
      }
    },
    {
      "cell_type": "markdown",
      "source": [
        "## **Introduction**\n",
        "This notebook presents **five research questions for Project DREAMS (DataCamp Resources & Engagement Analytics Monitoring System)**. These questions are designed to extract meaningful insights from the DataCamp Data Connector to inform workshop planning, interventions, and resource allocation for *DataCamp scholars* under *GDG On Campus PUP supervision*. Each question aligns with the **project objectives** of enhancing monitoring capabilities and developing a comprehensive analytics platform."
      ],
      "metadata": {
        "id": "bnbwxPZeZFLJ"
      }
    },
    {
      "cell_type": "markdown",
      "source": [
        "## **Research Questions**"
      ],
      "metadata": {
        "id": "pmpfl6TfZNHK"
      }
    },
    {
      "cell_type": "markdown",
      "source": [
        "### **Research Question 1:** What are the learning patterns and engagement trends across different times of day and days of the week?\n",
        "\n",
        "**Relevance**: Understanding when scholars are most active on the platform can help optimize the scheduling of workshops, support sessions, and intervention timing. This insight allows for more strategic resource allocation and potentially higher engagement rates with support activities.\n",
        "\n",
        "**Tables and Columns Required**:\n",
        "- `exercise_fact`: `user_id`, `date_id`, `started_at`, `completed_at`, `time_spent`, `xp`\n",
        "- `course_fact`: `user_id`, `date_id`, `started_at`, `completed_at`, `time_spent`, `xp`\n",
        "- `user_dim`: `user_id`, `first_name`, `last_name`, `email`\n",
        "\n",
        "**Methodology**:\n",
        "1. Extract day of week and hour of day from `started_at` timestamps in both fact tables\n",
        "2. Aggregate metrics (time spent, XP gained, completion rates) by day of week and hour of day\n",
        "3. Calculate activity concentration metrics (e.g., percentage of total learning occurring during each time slot)\n",
        "4. Identify peak activity periods and potential \"dead zones\"\n",
        "\n",
        "**Potential Insights and Actions**:\n",
        "- If most scholars are active during evenings, schedule workshops and support sessions during these peak times\n",
        "- If weekends show significantly higher activity, consider weekend workshops or support materials releases\n",
        "- Identify times of low engagement to deploy targeted notifications or challenges to boost activity\n",
        "- Design communication strategies aligned with scholars' natural learning rhythms"
      ],
      "metadata": {
        "id": "t4rmsmCfZjCl"
      }
    },
    {
      "cell_type": "markdown",
      "source": [
        "### **Research Question 2:** How does the completion rate of different technologies (Python, R, SQL) correlate with subsequent course selection and learning paths?\n",
        "\n",
        "**Relevance**: This analysis helps understand how initial success or struggle with specific technologies influences scholars' learning journeys. It provides insights into natural learning progressions versus abandonment patterns, which can inform how learning paths should be structured.\n",
        "\n",
        "**Tables and Columns Required**:\n",
        "- `course_fact`: `user_id`, `course_id`, `started_at`, `completed_at`\n",
        "- `course_dim`: `course_id`, `title`, `technology`, `topic`\n",
        "- `user_dim`: `user_id`, `first_name`, `last_name`, `email`\n",
        "- `track_fact`: `user_id`, `track_version_id`, `started_at`, `completed_at`\n",
        "- `track_dim`: `track_version_id`, `title`, `technology`\n",
        "\n",
        "**Methodology**:\n",
        "1. Calculate completion rates by technology for each user\n",
        "2. Analyze the sequence of courses taken by technology\n",
        "3. Identify transition patterns (e.g., from Python to SQL, from R to Python)\n",
        "4. Compare learning paths of those who complete versus abandon courses in specific technologies\n",
        "\n",
        "**Potential Insights and Actions**:\n",
        "- If scholars struggling with Python tend to switch to R, develop bridging resources or specialized support\n",
        "- If successful SQL learners consistently move to Python next, formalize this path in recommended learning tracks\n",
        "- Identify technologies with high abandonment rates to develop targeted interventions\n",
        "- Design supplementary materials for the most challenging technology transitions"
      ],
      "metadata": {
        "id": "FfdvKZl0ZTEx"
      }
    },
    {
      "cell_type": "markdown",
      "source": [
        "### **Research Question 3:** What is the relationship between engagement with practice exercises and performance in assessments and projects?\n",
        "\n",
        "**Relevance**: This analysis reveals how different types of learning activities contribute to practical skill development and assessment success. Understanding this relationship helps optimize the balance of content types in learning paths and identify effective preparation strategies.\n",
        "\n",
        "**Tables and Columns Required**:\n",
        "- `practice_fact`: `user_id`, `time_spent`, `xp`, `completed_at`\n",
        "- `practice_dim`: `practice_id`, `title`, `technology`\n",
        "- `assessment_fact`: `user_id`, `score`, `percentile`, `completed_at`\n",
        "- `assessment_dim`: `assessment_id`, `title`, `technology`\n",
        "- `project_fact`: `user_id`, `time_spent`, `completed_at`\n",
        "- `project_dim`: `project_id`, `title`, `technology`, `is_guided`\n",
        "\n",
        "**Methodology**:\n",
        "1. Calculate practice engagement metrics (time spent, completion rate) before assessments\n",
        "2. Analyze correlation between practice activity and assessment scores/percentiles\n",
        "3. Compare project completion rates based on prior practice engagement\n",
        "4. Segment users by practice activity levels and analyze differences in assessment outcomes\n",
        "\n",
        "**Potential Insights and Actions**:\n",
        "- If high practice engagement strongly correlates with assessment success, encourage more practice through gamification\n",
        "- If specific practice types better prepare for assessments, prioritize these in pre-assessment recommendations\n",
        "- Develop targeted practice modules for scholars struggling with specific assessment types\n",
        "- Implement \"practice checkpoints\" before high-stakes projects or assessments"
      ],
      "metadata": {
        "id": "4DRnIoJjZc2j"
      }
    },
    {
      "cell_type": "markdown",
      "source": [
        "### **Research Question 4:** Which content types (courses, practice, projects) drive the highest XP accumulation and sustained engagement over time?\n",
        "\n",
        "**Relevance**: Understanding which content types most effectively maintain scholar engagement helps optimize the mix of learning activities recommended to scholars. This insight informs content priority in workshops and helps identify engagement triggers.\n",
        "\n",
        "**Tables and Columns Required**:\n",
        "- `course_fact`: `user_id`, `time_spent`, `xp`, `started_at`, `completed_at`\n",
        "- `practice_fact`: `user_id`, `time_spent`, `xp`, `started_at`, `completed_at`\n",
        "- `project_fact`: `user_id`, `time_spent`, `xp`, `started_at`, `completed_at`\n",
        "- `assessment_fact`: `user_id`, `time_spent`, `started_at`, `completed_at`\n",
        "- `user_dim`: `user_id`, `registered_at`, `last_visit_at`, `last_time_spent_at`\n",
        "- `xp_fact`: `user_id`, `event`, `xp`, `created_date`\n",
        "\n",
        "**Methodology**:\n",
        "1. Calculate XP accumulation rates by content type\n",
        "2. Measure engagement persistence (time between first and last activity) by dominant content type\n",
        "3. Analyze patterns of content type transitions and their relationship to ongoing engagement\n",
        "4. Identify \"re-engagement\" patterns after periods of inactivity\n",
        "\n",
        "**Potential Insights and Actions**:\n",
        "- If projects drive the highest sustained engagement, increase project-based workshops\n",
        "- If alternating between content types shows better retention, design varied learning paths\n",
        "- Develop re-engagement strategies using the content types that best reactivate dormant users\n",
        "- Create personalized content mix recommendations based on engagement patterns"
      ],
      "metadata": {
        "id": "d2qG5dXOZq-i"
      }
    },
    {
      "cell_type": "markdown",
      "source": [
        "### **Research Question 5:** How do collaborative features like DataLab workbooks impact learning outcomes and course completion rates?\n",
        "\n",
        "**Relevance**: Understanding the impact of collaborative and applied learning features helps determine their effectiveness and informs strategies for promoting these features. This insight is critical for developing a holistic learning environment that balances structured and exploratory learning.\n",
        "\n",
        "**Tables and Columns Required**:\n",
        "- `workspace_fact`: `creator_id`, `nb_attempts_to_publish`, `nb_times_published_successfully`\n",
        "- `workspace_visit_fact`: `visitor_id`, `workspace_id`, `nb_seconds`\n",
        "- `workspace_dim`: `workspace_id`, `workspace_title`, `technology`\n",
        "- `course_fact`: `user_id`, `course_id`, `completed_at`, `time_spent`, `xp`\n",
        "- `user_dim`: `user_id`, `email`, `first_name`, `last_name`\n",
        "\n",
        "**Methodology**:\n",
        "1. Compare course completion rates between active DataLab workbook creators/users and non-users\n",
        "2. Analyze the relationship between workbook creation/viewing and subsequent course engagement\n",
        "3. Identify which technologies show the strongest correlation between workbook usage and course success\n",
        "4. Examine temporal patterns (e.g., does workbook usage precede or follow course completion?)\n",
        "\n",
        "**Potential Insights and Actions**:\n",
        "- If DataLab workbook usage correlates with higher course completion, develop workshop modules showcasing workbook features\n",
        "- If specific technologies show stronger benefits from workbook usage, create technology-specific collaborative challenges\n",
        "- Implement peer learning strategies based on workbook sharing patterns\n",
        "- Design scaffolded workbook templates for technologies where scholars struggle most"
      ],
      "metadata": {
        "id": "VVYNbPmGZugV"
      }
    },
    {
      "cell_type": "markdown",
      "source": [
        "## **Conclusion**\n",
        "\n",
        "These **five research questions address key aspects of scholar engagement and learning on DataCamp**. The insights derived will **directly support Project DREAMS' objectives** by providing actionable intelligence for optimizing scholar management strategies. The findings will enable:\n",
        "\n",
        "1. More effective workshop planning based on engagement patterns and learning preferences\n",
        "2. Targeted interventions for scholars struggling with specific technologies or content types\n",
        "3. Strategic resource allocation to maximize impact on scholar progress\n",
        "4. Development of personalized learning path recommendations\n",
        "5. Creation of a comprehensive analytics dashboard that visualizes these key metrics\n",
        "\n",
        "By analyzing these dimensions of the DataCamp learning experience, **GDG On Campus PUP** will be able to develop a robust monitoring system that not only tracks progress but actively **contributes to improving scholar success rates and engagement**."
      ],
      "metadata": {
        "id": "_it-T8fdZzTf"
      }
    },
    {
      "cell_type": "markdown",
      "source": [
        "## **Notes**\n",
        "\n",
        "Here's why my research questions are well-aligned with **Project DREAMS objectives and requirements:**\n",
        "\n",
        "1. **Alignment with Project Objectives**:\n",
        "   - The questions directly support the goal of designing \"**comprehensive performance metrics**\" by examining engagement patterns, completion rates, and learning outcomes\n",
        "   - The insights would inform the \"**interactive visualizations**\" needed for the web-based analytics platform\n",
        "\n",
        "2. **Focus on Monitoring Capabilities**:\n",
        "   - Questions examine key tracking metrics (time spent, XP gained, completion rates)\n",
        "   - Analysis of learning patterns provides the foundation for meaningful scholar progress monitoring\n",
        "\n",
        "3. **Support for Resource Allocation & Workshop Planning**:\n",
        "   - **Question 1** directly addresses optimal workshop timing\n",
        "   - **Questions 2-5** provide insights for workshop content prioritization\n",
        "   - All questions yield actionable data for targeted interventions\n",
        "\n",
        "4. **Technical Feasibility**:\n",
        "   - All analyses can be implemented using the specified technology stack (Pandas, Plotly, Streamlit)\n",
        "   - Data required is available in the DataCamp Data Connector model\n",
        "   - Methodologies are practical and achievable\n",
        "\n",
        "5. **Dual-Purpose Success**:\n",
        "   - Questions support both **operational needs** (better scholar management) and **learning opportunities** (practical data analysis skills)\n",
        "\n",
        "*These research questions successfully establish the foundation for a comprehensive monitoring system that could transform how GDG On Campus PUP manages its DataCamp scholars, directly fulfilling the project's stated purpose.*"
      ],
      "metadata": {
        "id": "0wdcJcqPa0Zg"
      }
    }
  ]
}