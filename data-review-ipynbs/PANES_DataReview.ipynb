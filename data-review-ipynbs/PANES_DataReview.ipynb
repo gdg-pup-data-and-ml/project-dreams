{
  "cells": [
    {
      "cell_type": "markdown",
      "source": [
        "# **Introduction**\n"
      ],
      "metadata": {
        "id": "iYuaeQCGk9xj"
      }
    },
    {
      "cell_type": "markdown",
      "source": [
        "This research questions examines scholars' learning behaviors, course engagement, and certification success to provide a deeper understanding of factors influencing their progress. By analyzing enrollment trends, completion rates, and engagement patterns, we can identify challenges scholars face, optimize course recommendations, and enhance retention strategies. The insights gained from this study will support the development of data-driven performance metrics and interactive visualizations, improving the monitoring and tracking of scholars’ learning journeys."
      ],
      "metadata": {
        "id": "XSzIEiPvlIIQ"
      }
    },
    {
      "cell_type": "markdown",
      "source": [
        "# **Research Questions**"
      ],
      "metadata": {
        "id": "cOrGSDoBlsp9"
      }
    },
    {
      "cell_type": "markdown",
      "source": [
        "## Research Question 1\n",
        "How do completed courses influence scholars’ certification success rates?\n"
      ],
      "metadata": {
        "id": "SFGXVAIkl3Vg"
      }
    },
    {
      "cell_type": "markdown",
      "source": [
        "### Relevance\n",
        "Understanding the impact of completed courses on certification success can help refine course recommendations and ensure scholars are sufficiently prepared before attempting certifications. By identifying which courses contribute to higher pass rates, administrators can optimize learning paths and provide targeted guidance.\n"
      ],
      "metadata": {
        "id": "rhVCBTmqmTna"
      }
    },
    {
      "cell_type": "markdown",
      "source": [
        "### Tables and Columns Required\n",
        "\n",
        "- `certification_fact`: `user_id`, `certification_id`, `certificate_granted_at`, `is_passed_exams`\n",
        "- `certification_dim`: `certification_id`, `certification_name`\n",
        "- `course_fact`: `user_id`, `course_id`, `completed_at`\n",
        "- `course_dim`: `course_id`, `title`, `technology`"
      ],
      "metadata": {
        "id": "qWGo3z1Dmfm5"
      }
    },
    {
      "cell_type": "markdown",
      "source": [
        "### Methodology\n",
        "\n",
        "1. Filter `certification_fact` to identify scholars who passed a certification (`is_passed_exams` = TRUE) and join with `certification_dim` for certification details.\n",
        "\n",
        "2. Join `certification_fact` with `course_fact` using `user_id` to retrieve completed courses before certification and categorize them by technology and title using `course_dim`.\n",
        "\n",
        "3. Aggregate and group scholars based on the number of completed courses (e.g., 0-2, 3-5, 6+) and compare certification pass rates across these groups.\n",
        "\n",
        "4. Identify the most frequently completed courses among successful scholars and analyze their impact on pass rates.\n",
        "\n",
        "5. Determine if specific courses significantly improve the chances of passing certifications."
      ],
      "metadata": {
        "id": "dAF0qCUUmz0Q"
      }
    },
    {
      "cell_type": "markdown",
      "source": [
        "### Potential Insights and Actions:\n",
        "- If scholars who completed specific courses have higher certification pass rates, those courses can be recommended as prerequisites.\n",
        "\n",
        "- If scholars who complete more courses tend to pass at higher rates, structured learning pathways should be enforced before certification attempts.\n",
        "\n",
        "- If certain courses have low correlation with success, course content may need adjustments to align better with certification objectives.\n",
        "\n",
        "- If many scholars attempt certifications without completing relevant courses and fail, targeted interventions (e.g., course reminders, preparation workshops) should be implemented."
      ],
      "metadata": {
        "id": "LxCr87ucnXAR"
      }
    },
    {
      "cell_type": "markdown",
      "source": [
        "## Research Question 2\n",
        "\n",
        "How do scholars' learning activity patterns (time of day, day of the week) correlate with XP gains?\n",
        "\n"
      ],
      "metadata": {
        "id": "ZkkgyxQ1njKJ"
      }
    },
    {
      "cell_type": "markdown",
      "source": [
        "### Relevance\n",
        "Understanding when scholars are most active and how their learning habits influence XP gains can help optimize learning schedules, recommend effective study times, and provide personalized interventions to maximize engagement and progress.\n"
      ],
      "metadata": {
        "id": "ZbF3oEaAnqeX"
      }
    },
    {
      "cell_type": "markdown",
      "source": [
        "### Tables and Columns Required\n",
        "\n",
        "- `course_fact`: `user_id`, `course_id`, `started_at`, `time_spent`\n",
        "\n",
        "- `xp_fact`: `user_id`, `event`, `created_at`, `xp`\n"
      ],
      "metadata": {
        "id": "kyRWryXRnx-_"
      }
    },
    {
      "cell_type": "markdown",
      "source": [
        "### Methodology\n",
        "\n",
        "1. Convert `started_at` and `created_at` timestamps into categorical variables: Hour of the day (morning, afternoon, evening), Day of the week (Monday-Sunday), Weekday vs. Weekend classification, and Time slots: Early Morning (12 AM-6 AM), Morning (6 AM-12 PM), Afternoon (12 PM-6 PM), Evening (6 PM-12 AM).\n",
        "\n",
        "2. Group `xp_fact` by `created_at` (hourly and by day of the week) and sum XP earned in each time slot to identify trends.\n",
        "\n",
        "3. Join `course_fact` with `xp_fact` using `user_id` to analyze XP efficiency: Calculate total XP earned per scholar per time slot, Determine average XP per minute spent on courses, and Identify time slots with the highest XP per minute efficiency.\n",
        "\n",
        "4. Compare XP gains across different time slots to identify peak XP-earning periods.\n",
        "\n",
        "5. Analyze whether XP gains align with time spent or if certain time slots are more productive.\n",
        "\n"
      ],
      "metadata": {
        "id": "K3atmmGKn-ll"
      }
    },
    {
      "cell_type": "markdown",
      "source": [
        "### Potential Insights and Actions\n",
        "\n",
        "- If scholars earn significantly more XP in specific time slots, personalized study recommendations can be provided for maximum efficiency.\n",
        "\n",
        "- If XP efficiency is low at certain times, it may indicate distractions or fatigue, prompting schedule adjustments.\n",
        "\n",
        "- If weekday vs. weekend learning behaviors differ, interventions such as weekend challenges or weekday reminders can be implemented.\n",
        "\n",
        "\n"
      ],
      "metadata": {
        "id": "mDwBV1sxokdo"
      }
    },
    {
      "cell_type": "markdown",
      "source": [
        "\\"
      ],
      "metadata": {
        "id": "7XVV92bvpCjD"
      }
    },
    {
      "cell_type": "markdown",
      "source": [
        "## Research Question 3\n",
        "\n",
        "At what point in a course do most scholars drop out, and what factors contribute to course abandonment?\n"
      ],
      "metadata": {
        "id": "SLWfqJJuqrBv"
      }
    },
    {
      "cell_type": "markdown",
      "source": [
        "### Relevance\n",
        "\n",
        "Understanding when and why scholars abandon courses can help improve course design, engagement strategies, and learner retention. Identifying common drop-off points will allow for targeted interventions, such as reminders, progress incentives, or additional support, to encourage course completion.\n",
        "\n"
      ],
      "metadata": {
        "id": "LWRHYJ1Pq3em"
      }
    },
    {
      "cell_type": "markdown",
      "source": [
        "### Tables and Columns Required\n",
        "\n",
        "- `course_fact`: `user_id`, `course_id`, `time_spent`, `started_at`, `completed_at`\n",
        "\n",
        "- `course_dim`: `course_id`, `title`, `technology`, `topic`\n"
      ],
      "metadata": {
        "id": "nnE5RyVtrB4j"
      }
    },
    {
      "cell_type": "markdown",
      "source": [
        "### Methodology\n",
        "1. Identify abandoned courses by filtering `course_fact` to find records where `completed_at` is NULL and extracting `started_at` timestamps for these courses.\n",
        "\n",
        "2. Analyze drop-off timing by calculating the duration between `started_at` and the scholar’s last recorded activity, then categorizing drop-off points into intervals such as within the first hour, first day, or first week.\n",
        "\n",
        "3. Identify course-specific drop-off trends by joining `course_fact` with `course_dim` using `course_id`, grouping abandonment rates by technology and topic, and comparing time_spent distributions to see if certain courses are abandoned more quickly than others.\n",
        "\n",
        "4. Detect patterns in high drop-off courses by finding those with the highest number of early dropouts and comparing course structures, such as content length, difficulty level, and interactivity, to identify potential pain points.\n"
      ],
      "metadata": {
        "id": "KNkNeXr7rRWX"
      }
    },
    {
      "cell_type": "markdown",
      "source": [
        "### Potential Insights and Actions\n",
        "\n",
        "- If scholars frequently drop out within the first few hours, onboarding and initial engagement strategies may need improvement.\n",
        "\n",
        "- If dropouts cluster around specific technologies or topics, course content may need restructuring for clarity and accessibility.\n",
        "\n",
        "- If high drop-off rates are linked to longer time requirements, introducing progress tracking and milestone rewards could improve retention.\n",
        "\n",
        "- If abandonment occurs in courses with no interactive elements, adding quizzes, discussions, or hands-on projects may increase engagement.\n",
        "\n"
      ],
      "metadata": {
        "id": "zxXxW4wVrjqp"
      }
    },
    {
      "cell_type": "markdown",
      "source": [
        "## Research Question 4\n",
        "How does scholars’ engagement with different course topics affect their XP gains and retention?\n"
      ],
      "metadata": {
        "id": "YcIhh8DXrx8l"
      }
    },
    {
      "cell_type": "markdown",
      "source": [
        "### Relevance\n",
        "Understanding how engagement in specific course topics influences XP accumulation and retention rates is crucial for optimizing learning strategies. By identifying which topics foster the most engagement and where drop-offs occur, curriculum designers can refine course structures, enhance learner experiences, and increase overall retention. This research will help improve content delivery and engagement strategies, ensuring scholars maximize their learning potential.\n"
      ],
      "metadata": {
        "id": "uO8b2LOJr7Is"
      }
    },
    {
      "cell_type": "markdown",
      "source": [
        "### Tables and Columns Required\n",
        "\n",
        "- `course_fact`: `user_id`, `course_id`, `started_at`, `completed_at`, `time_spent`, `xp`\n",
        "\n",
        "- `course_dim`: `course_id`, `title`, `technology`, `topic`\n",
        "\n",
        "- `xp_fact`: `user_id`, `event`, `created_at`, `xp`\n"
      ],
      "metadata": {
        "id": "olWVyQVDr_Cs"
      }
    },
    {
      "cell_type": "markdown",
      "source": [
        "### Methodology\n",
        "1. Extract course topics from `course_dim`, link them to scholars in `course_fact`, and group scholars based on engaged topics.\n",
        "\n",
        "2. Analyze topic engagement by comparing total XP gained, identifying popular or frequently abandoned topics, and calculating completion rates (`completed_at` vs. `started_at`).\n",
        "\n",
        "3. Identify topics with the highest and lowest completion rates and track drop-off trends by analyzing scholars who started but never completed courses (`completed_at` IS NULL).\n",
        "\n",
        "4. Determine if specific technologies or topics have higher disengagement rates by correlating completion trends with engagement data.\n",
        "\n",
        "5. Compare total XP gained vs. total time spent per topic to assess XP efficiency and identify topics requiring more or less effort.\n",
        "\n",
        "6. Analyze whether certain topics enable quick progression or demand extended engagement and correlate XP efficiency with retention trends to see if highly efficient topics improve scholar retention.\n"
      ],
      "metadata": {
        "id": "JPzdWqAesHhR"
      }
    },
    {
      "cell_type": "markdown",
      "source": [
        "### Potential Insights and Actions\n",
        "- If certain topics lead to high XP and retention, they should be emphasized in learning pathways to maximize engagement.\n",
        "\n",
        "- If topics have high drop-off rates, analyzing difficulty and engagement levels can help modify course design, add interactive elements, or provide additional support.\n",
        "\n",
        "- If specific study patterns, such as short sessions vs. long study blocks, lead to higher XP gains, course pacing and recommendations should be adjusted based on efficient learning behaviors.\n",
        "\n",
        "\n",
        "\n",
        "\n",
        "\n",
        "\n",
        "\n",
        "\n"
      ],
      "metadata": {
        "id": "1ku7wtmasSiK"
      }
    },
    {
      "cell_type": "markdown",
      "source": [
        "## Research Question 5\n",
        "What are the most popular and most completed tracks among scholars on a monthly and yearly basis?\n"
      ],
      "metadata": {
        "id": "IN21ey4Yse04"
      }
    },
    {
      "cell_type": "markdown",
      "source": [
        "### Relevance\n",
        "Understanding which tracks scholars engage with the most each month and which tracks have the highest completion rates yearly can help in optimizing course recommendations, improving curriculum design, and identifying trends in scholar preferences."
      ],
      "metadata": {
        "id": "RWk0zeG9sovA"
      }
    },
    {
      "cell_type": "markdown",
      "source": [
        "### Tables and Columns Required\n",
        "- `track_fact`: `user_id`, `track_version_id`, `started_at`, `completed_at`, `date_id`, `is_currently_active`\n",
        "\n",
        "- `track_dim`: `track_version_id`, `title`, `technology`, `category`, `nb_courses`, `nb_projects`\n",
        "\n",
        "\n",
        "- `track_content_fact`: `content_id`, `xp`, `nb_seconds`\n"
      ],
      "metadata": {
        "id": "ArmPufBgstUw"
      }
    },
    {
      "cell_type": "markdown",
      "source": [
        "\n",
        "### Methodology\n",
        "1. Aggregate scholar enrollment data from `track_fact` by grouping `started_at` timestamps per track and month to determine monthly track popularity.\n",
        "\n",
        "2. Count the number of enrollments per track each month and rank tracks based on the highest number of enrollments.\n",
        "\n",
        "3. Identify yearly track completion trends by filtering track records where `completed_at` is NOT NULL and counting the total completions per `track_version_id` for each year.\n",
        "\n",
        "4. Determine the track with the highest completion rate yearly and compare completion trends across different track categories.\n",
        "\n",
        "5. Categorize tracks by technology and category from track_dim to analyze engagement patterns based on content type.\n",
        "\n",
        "6. Compare track difficulty using `nb_courses` and `nb_projects` to assess whether scholars complete shorter or easier tracks more frequently.\n",
        "\n",
        "7. Evaluate scholar retention and XP efficiency by comparing `nb_seconds` (time spent) and `xp` (experience points earned) per track.\n",
        "\n",
        "8. Identify tracks where scholars earn the most XP and engage the longest to determine which tracks provide the most learning value."
      ],
      "metadata": {
        "id": "rzQxuCspszSF"
      }
    },
    {
      "cell_type": "markdown",
      "source": [
        "### Potential Insights and Actions\n",
        "\n",
        "- If certain tracks are consistently popular each month, feature them more prominently to encourage more enrollments.\n",
        "\n",
        "- If some tracks have high enrollments but low completions, investigate why learners drop off and improve course design.\n",
        "\n",
        "- If scholars engage more with certain technologies or categories, align new course offerings with those interests.\n",
        "\n",
        "- If some tracks yield higher XP gains efficiently, optimize track structure to balance learning impact and engagement.\n",
        "\n",
        "\n"
      ],
      "metadata": {
        "id": "nfUcWvHHs1LQ"
      }
    },
    {
      "cell_type": "markdown",
      "source": [
        "# **Conclusion**\n",
        "The research insights from Project DREAMS will improve scholars' learning experiences by ensuring they are well-prepared for certifications, maximizing their study efficiency, and increasing course completion rates. By identifying which completed courses contribute to certification success, scholars can follow structured learning paths that enhance their chances of passing. Understanding learning activity patterns will help recommend the best study times, making learning more productive. Detecting where and why scholars drop out of courses will allow for improvements in course design and engagement strategies, ensuring higher retention. Analyzing engagement with different topics will help refine content delivery, making learning more effective and motivating. Lastly, identifying the most popular and completed tracks will guide scholars toward valuable learning paths that align with their interests and career goals. These insights will create a more personalized, engaging, and efficient learning environment, leading to better success rates and overall learning outcomes."
      ],
      "metadata": {
        "id": "Sw2q9hShlxSz"
      }
    }
  ],
  "metadata": {
    "colab": {
      "provenance": []
    },
    "kernelspec": {
      "display_name": "Python 3",
      "name": "python3"
    }
  },
  "nbformat": 4,
  "nbformat_minor": 0
}