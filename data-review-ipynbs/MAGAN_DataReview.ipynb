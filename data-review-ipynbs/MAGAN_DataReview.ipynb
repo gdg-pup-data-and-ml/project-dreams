{
 "cells": [
  {
   "cell_type": "markdown",
   "id": "628bd376-eb6a-4a52-8943-3c520040954e",
   "metadata": {},
   "source": [
    "# Asking the Right Questions\n",
    "Kim Audrey Magan | 3/14/2025\n",
    "\n",
    "---"
   ]
  },
  {
   "cell_type": "markdown",
   "id": "cae67682-f501-4961-9f33-c763999a4fd3",
   "metadata": {},
   "source": [
    "Your task is to:\n",
    "\n",
    "- Review the DataCamp Data Connector documentation.\n",
    "- Formulate 5 research questions that provide valuable insights for tracking and improving DataCamp scholar engagement.\n",
    "For each question:\n",
    "    - Explain its relevance to Project DREAMS objectives.\n",
    "    - Identify the tables and columns needed to answer the question.\n",
    "    - Describe any joins, aggregations, or calculations required.\n",
    "    - Explain how the insights could improve scholar management."
   ]
  },
  {
   "cell_type": "markdown",
   "id": "6e526b7d-3d48-462e-acab-4a95f158b220",
   "metadata": {
    "jp-MarkdownHeadingCollapsed": true
   },
   "source": [
    "## 1. Introduction\n",
    "This notebook will first touch on understanding the main problem only then proceed to asking the 5 right questions followed by the approach to solve them."
   ]
  },
  {
   "cell_type": "markdown",
   "id": "e7f5b94d-796e-4054-af9b-8aa97fa1252b",
   "metadata": {},
   "source": [
    "### Understanding the Problem"
   ]
  },
  {
   "cell_type": "markdown",
   "id": "920d7d01-bcdc-4e90-a025-0ea55ef86463",
   "metadata": {},
   "source": [
    "DataCamp is a popular online learning platform that allows students to study machine learning and data science. Although well-known, it lacks the ability to display student progress visually, making it difficult for administrators to track **improvements through various metrics** and **visualize patterns and trends**. Implementing a system to do so would enable the administrators to improve resource allocation and workshop planning.\n",
    "\n",
    "**How can someone help solve the problem?**\n",
    "\n",
    "I think to solve this problem we could:\n",
    "- **Identify the metrics** that really tell the ability of a student (_what does improving really mean here?_)\n",
    "    - **Qualitative & Quantitative**, beyond XP, consider metrics like engagement level, time spent per module, or even peer collaboration\n",
    "- Use statistical methods and machine learning to **differentiate top performers from others**, uncover trends, and predict outcomes\n",
    "- Of course **gather the right data** from the databank with security and all\n",
    "- **Integrate the effective and scientific study techniques** to datacamp after the analysis (_are they doing spaced repetition, projects every after courses?_ \\[techniques that are based and scientific])\n",
    "- Get the **feedbacks from the students** about the courses, are the instructors fast are the courses outdated, etc. Do their expereinces at their homes affect their ability to learn? How can offficers help when they get stuck?"
   ]
  },
  {
   "cell_type": "markdown",
   "id": "014c149d-5966-48a3-852d-0364697b3123",
   "metadata": {},
   "source": [
    "## 2. Research Questions\n",
    "\n",
    "**Format:**\n",
    "\n",
    "Research Questions: Your 5 research questions, each including:\n",
    "- The question itself.\n",
    "- Relevance to Project DREAMS objectives.\n",
    "    - Design and implement comprehensive performance metrics and interactive visualizations to enhance the monitoring capabilities of the system.\n",
    "    - Develop a web-based analytics platform specifically specially made to track DataCamp scholars' progress under GDG PUP supervision.\n",
    "- Tables and columns required from the DataCamp Data Connector.\n",
    "- Methodology (joins, aggregations, calculations).\n",
    "- Potential insights and actions."
   ]
  },
  {
   "cell_type": "markdown",
   "id": "ec49a852-6f02-4038-ba96-b4a5e910b845",
   "metadata": {},
   "source": [
    "### **Question #1:**  \n",
    "**What metrics determine the true skill of students based on their chosen technology or track?**  \n",
    "\n",
    "#### **Relevance to Project DREAMS Objectives:**  \n",
    "To effectively gather insights about our students, we must first define the key metrics. These metrics will serve as the foundation for visualization and analysis.  \n",
    "\n",
    "#### **Tables and Columns Required from the DataCamp Data Connector:**  \n",
    "If the relevant metrics can be derived from DataCamp’s data connector, the following datasets may be needed (let's say the time):  \n",
    "- `course_dim`: `course_id`, `technology`\n",
    "- `course_fact`: `user_id`, `course_id`, `started_at`, `completed_at`, `time_spent`\n",
    "\n",
    "#### **Methodology:**  \n",
    "1. Join the `course_dim` and the `course_fact` using `course_id`\n",
    "2. Group the `user_id` (users) based on the technology\n",
    "3. Calculate the average time spent from the courses taken by a `user_id`\n",
    "\n",
    "#### **Potential Insights and Actions:**  \n",
    "Beyond the time spent on courses and practice, a strong indicator of a student’s skill is their **deliverables**—what they can produce based on their learning.  \n",
    "- We could brainstorm different skill levels and their expected deliverables.  \n",
    "- Alternatively, we could consult professionals to understand what they expect from students at various levels.\n",
    "\n",
    "- I am thinking maybe we could use ML to do feature selection once we have identified the candidates metrics that determine the true skill of our students\n"
   ]
  },
  {
   "cell_type": "markdown",
   "id": "fb1b6100-6f3f-4caf-82e3-2b4001c91636",
   "metadata": {},
   "source": [
    "### **Question #2A:**  \n",
    "**What value dictates high-performing, low-performing, or other categories of students?**  \n",
    "\n",
    "#### **Relevance to Project DREAMS Objectives:**  \n",
    "One of DREAMS' objectives is to assess students' skills. Once the key metrics are defined, we can determine the best value that classifies students as high-performing, low-performing, or other levels. This classification will allow for more specialized feedback.  \n",
    "\n",
    "Additionally, distinguishing students into categories enables us to narrow our investigations, identify patterns, and make informed future decisions.  \n",
    "\n",
    "#### **Tables and Columns Required from the DataCamp Data Connector:**<br> \n",
    "(If we go with time)\n",
    "If relevant, the following datasets may be needed:  \n",
    "- `course_dim`: `course_id`, `technology`\n",
    "- `course_fact`: `user_id`, `course_id`, `started_at`, `completed_at`, `time_spent`\n",
    "\n",
    "#### **Methodology:**  \n",
    "\n",
    "Our goal is to find who are the best-performing students and low-performing (other categories)\n",
    "\n",
    "1. Set the value that determines the level of competencies for each student\n",
    "2. Join the `course_dim` and the `course_fact` using `course_id`\n",
    "3. Group the `user_id` (users) based on the technology\n",
    "4. Calculate the average time spent from the courses taken by a `user_id`\n",
    "5. Group the `user_id` based on the value specified\n",
    "\n",
    "#### **Potential Insights and Actions:**  \n",
    "The first step is to clearly define the key metrics, as they form the basis for identifying the most meaningful classification values.  \n",
    "\n",
    "- Once the metrics are established, we can explore research studies that use similar metrics to understand the significance of different values.\n",
    "- Another thing here is when we have a labeled data based on these features such as the time we can do supervised learning to other students as well based on the time they are spending on a material kinda like a feedback where they fall among the categories.  \n"
   ]
  },
  {
   "cell_type": "markdown",
   "id": "d18c4625-ccc2-4b3e-ad58-ad1342149284",
   "metadata": {},
   "source": [
    "### **Question #2B:**  \n",
    "**Assuming the values were extracted, what separates high-performing and low-performing (or other levels) students?**  \n",
    "\n",
    "- If the metric is **X**, how much longer do high-performing students engage in **X** compared to low-performing students?  \n",
    "- If the metric is **Y**, how much more do high-performing students complete compared to low-performing students?  \n",
    "- ...  \n",
    "\n",
    "#### **Relevance to Project DREAMS Objectives:**  \n",
    "Understanding the differences between student categories will help analysts gather targeted insights and analyze specific groups, making the findings more personalized.  \n",
    "\n",
    "#### **Tables and Columns Required from the DataCamp Data Connector:**  \n",
    "If relevant, the following datasets may be needed:  \n",
    "- `assessment_dim`: `assessment_id`, `technology`\n",
    "- `assessment_fact`: entire table\n",
    "- ... We can use almost all the tables since we are looking for the characteristics of the students\n",
    "\n",
    "#### **Methodology:**  \n",
    "1. With the labeled user\n",
    "2. Group the `user_id` based on levels\n",
    "3. Do descriptive statistics on their assessments, projects, finished courses\n",
    "\n",
    "#### **Potential Insights and Actions:**  \n",
    "Once the groups are identified based on the metrics, we can use this information to present in the dashboard how a user in a specific group need to proceed with his or her learnings. Again with these features we can use a classification model to show where they fall and then provide necessary feedbacks tailored with their needs.\n"
   ]
  },
  {
   "cell_type": "markdown",
   "id": "997c9569-88b3-43b8-a36c-9c9038aa1fed",
   "metadata": {},
   "source": [
    "### **Question #3:**  \n",
    "**How long does it take to finish a course? Is the strategy to complete it in one sitting or spread it over a week/month?**  \n",
    "\n",
    "#### **Relevance to Project DREAMS Objectives:**  \n",
    "- This helps analyze how much time students spend on each course and its relationship with key metrics  \n",
    "- Research suggests that spreading study time over a week is more effective than completing a course in one sitting. Understanding student behavior can reveal whether they are using effective study techniques or simply rushing through courses without proper learning.\n",
    "- Spaced Repetition (Make it Stick)  \n",
    "\n",
    "#### **Tables and Columns Required from the DataCamp Data Connector:**  \n",
    "If relevant, the following datasets may be needed:  \n",
    "- course_dim: course_id, technology\n",
    "- course_fact: user_id, course_id, started_at, completed_at, time_spent\n",
    "- date_dim: id \n",
    "\n",
    "#### **Methodology:**  \n",
    "1. Join the course_dim and the course_fact using course_id\n",
    "2. Extract the finished courses (those courses whose completed_at values != NULL)\n",
    "3. If what I think is correct (new instance of record generates wheneever a user worked on a specific course) then we can join the date_dim and the table from step 1\n",
    "4. Get the average interval from every finished course (Still thinking of a way to do this)\n",
    "5. Now we have the average interval for every user\n",
    "6. Divide the Joined table on technology and user level\n",
    "\n",
    "#### **Potential Insights and Actions:**  \n",
    "- If data shows that students are rushing through courses without retaining knowledge, we could introduce a structured course plan to optimize learning.  \n",
    "- Instead of finishing multiple courses in a single day, we could suggest a schedule that includes two unrelated but relevant courses within the same track to encourage better retention and learning balance.  \n"
   ]
  },
  {
   "cell_type": "markdown",
   "id": "e9994525-d43c-4f21-948d-9fc340602028",
   "metadata": {},
   "source": [
    "### **Question #4:**  \n",
    "**How many courses or tracks do students take simultaneously?**  \n",
    "\n",
    "#### **Relevance to Project DREAMS Objectives:**  \n",
    "- Understanding how students manage multiple courses on DataCamp can help determine whether their learning strategies are effective.  \n",
    "- By comparing student behavior with research on effective study techniques, we can assess whether their approach is beneficial or if improvements can be suggested.  \n",
    "\n",
    "#### **Tables and Columns Required from the DataCamp Data Connector:**  \n",
    "- course_fact: user_id, course_id, started_at, completed_at\n",
    "- course_dim: course_id, technology\n",
    "\n",
    "#### **Methodology:**  \n",
    "1. Join the two said tables on course_id\n",
    "2. Determine Active Course Periods (those whose completed_at == NULL)\n",
    "3. Identify Overlapping Courses:  if started_at for one course falls between started_at and completed_at of another course\n",
    "4. Group by User and Count Simultaneous Courses\n",
    "5. Separate by technology and by skill level\n",
    "\n",
    "#### **Potential Insights and Actions:**  \n",
    "- Based on this data, we could create a **personalized course scheduling plan** to help students maximize their learning.  \n",
    "- For example, research may suggest that taking **two courses per week** is optimal, or that **spreading one course over a week** leads to better retention. The best approach can be determined based on relevant studies.  \n"
   ]
  },
  {
   "cell_type": "markdown",
   "id": "032fcc9b-c158-4c87-84d9-201ccf1141f9",
   "metadata": {},
   "source": [
    "### **Question #5:**  \n",
    "**Do student demographics affect their progress in DataCamp?**  \n",
    "\n",
    "#### **Relevance to Project DREAMS Objectives:**  \n",
    "- Understanding more about our students allows us to tailor recommendations and support strategies to their specific needs.  \n",
    "\n",
    "#### **Tables and Columns Required from the DataCamp Data Connector:**  \n",
    "- Same as **Question #2A**  \n",
    "\n",
    "#### **Methodology:**  \n",
    "1. Define key metrics and skill levels.  \n",
    "2. Analyze correlations between student demographics and their progress.  \n",
    "\n",
    "#### **Potential Insights and Actions:**  \n",
    "- Identify factors that may influence student progress, such as academic workload, personal challenges, or level of interest.  \n",
    "- Determine if students are struggling due to external factors (e.g., school commitments) or lack of motivation.  \n",
    "- Implement periodic check-ins through surveys to understand their challenges and provide better support.  \n"
   ]
  },
  {
   "cell_type": "markdown",
   "id": "a2b83bd6-d58f-429b-b427-7c517a5eb894",
   "metadata": {},
   "source": [
    "## 3. Conclusion"
   ]
  },
  {
   "cell_type": "markdown",
   "id": "5fa37c0e-8f4a-4ee7-b8b7-f9a73c7245fa",
   "metadata": {},
   "source": [
    "I made the questions to first answer the main question which is finding the right metrics to know the skill of our students and from this find the different levels of the student and analyze their habits/behaviours when learning. I also asked some questions which direct on the behaviors for I want the students to develop a more effective study routine and not just gain XP—this initiative can lead to a smart scheduling system. Lastly, I want to know how our students doing not just inside the datacamp but also in their lives for I believe these things affect how people learn and simple check-ups can help the student get pass their struggles when studying data tech."
   ]
  },
  {
   "cell_type": "code",
   "execution_count": null,
   "id": "53bbe934-fedf-4760-9984-d713b27bca73",
   "metadata": {},
   "outputs": [],
   "source": []
  }
 ],
 "metadata": {
  "kernelspec": {
   "display_name": "Python 3 (ipykernel)",
   "language": "python",
   "name": "python3"
  },
  "language_info": {
   "codemirror_mode": {
    "name": "ipython",
    "version": 3
   },
   "file_extension": ".py",
   "mimetype": "text/x-python",
   "name": "python",
   "nbconvert_exporter": "python",
   "pygments_lexer": "ipython3",
   "version": "3.12.9"
  }
 },
 "nbformat": 4,
 "nbformat_minor": 5
}
